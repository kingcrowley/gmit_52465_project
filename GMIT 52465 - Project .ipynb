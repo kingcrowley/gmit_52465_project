{
 "cells": [
  {
   "cell_type": "markdown",
   "metadata": {},
   "source": [
    "# Introduction\n",
    "### Goal:  Choose a real-world phenomenon that can be measured and for which you could collect at least one-hundred data points across at least four different variables.\n",
    "\n",
    "For this project we must create a data set by simulating a real-world phenomenon of your choosing. After examining available datasets such as petrol prices and other economic factors (I found these to have too many variables and possibly be difficult to synthesise this kind of data). So I looked at weather data, as everyone in Ireland has an interest in weather and the data was available. To model one element of this data I choose rain fall data, as it is reasonably simplistic but there is lots of it and it is spread across multiple collection points. So while rainfall data is the data - we could examine it through rainfall across 4-5 different sites and create synthetic data for a sythetic site possibly or create synthetic data for exisintg sites based on previous data.\n",
    " Choose a real-world phenomenon that can be measured and for which you could\n",
    "collect at least one-hundred data points across at least four different variables."
   ]
  },
  {
   "cell_type": "code",
   "execution_count": 1,
   "metadata": {},
   "outputs": [
    {
     "data": {
      "text/html": [
       "<div>\n",
       "<style scoped>\n",
       "    .dataframe tbody tr th:only-of-type {\n",
       "        vertical-align: middle;\n",
       "    }\n",
       "\n",
       "    .dataframe tbody tr th {\n",
       "        vertical-align: top;\n",
       "    }\n",
       "\n",
       "    .dataframe thead th {\n",
       "        text-align: right;\n",
       "    }\n",
       "</style>\n",
       "<table border=\"1\" class=\"dataframe\">\n",
       "  <thead>\n",
       "    <tr style=\"text-align: right;\">\n",
       "      <th></th>\n",
       "      <th>Belmullet</th>\n",
       "      <th>Birr</th>\n",
       "      <th>Cahirciveen</th>\n",
       "      <th>Casement</th>\n",
       "      <th>Claremorris</th>\n",
       "      <th>Clones</th>\n",
       "      <th>Cork airport</th>\n",
       "      <th>Dublin airport</th>\n",
       "      <th>Galway</th>\n",
       "      <th>Kilkenny</th>\n",
       "      <th>Malin head</th>\n",
       "      <th>Mullingar</th>\n",
       "      <th>Roches Point</th>\n",
       "      <th>Rosslare</th>\n",
       "      <th>Shannon airport</th>\n",
       "    </tr>\n",
       "    <tr>\n",
       "      <th>date</th>\n",
       "      <th></th>\n",
       "      <th></th>\n",
       "      <th></th>\n",
       "      <th></th>\n",
       "      <th></th>\n",
       "      <th></th>\n",
       "      <th></th>\n",
       "      <th></th>\n",
       "      <th></th>\n",
       "      <th></th>\n",
       "      <th></th>\n",
       "      <th></th>\n",
       "      <th></th>\n",
       "      <th></th>\n",
       "      <th></th>\n",
       "    </tr>\n",
       "  </thead>\n",
       "  <tbody>\n",
       "    <tr>\n",
       "      <th>1958-01-01</th>\n",
       "      <td>160.2</td>\n",
       "      <td>95.6</td>\n",
       "      <td>214.8</td>\n",
       "      <td>..</td>\n",
       "      <td>146.9</td>\n",
       "      <td>104.8</td>\n",
       "      <td>..</td>\n",
       "      <td>40.0</td>\n",
       "      <td>..</td>\n",
       "      <td>116.4</td>\n",
       "      <td>127.2</td>\n",
       "      <td>109.4</td>\n",
       "      <td>120.7</td>\n",
       "      <td>102.5</td>\n",
       "      <td>115.6</td>\n",
       "    </tr>\n",
       "    <tr>\n",
       "      <th>1958-02-01</th>\n",
       "      <td>75.2</td>\n",
       "      <td>85.6</td>\n",
       "      <td>130.8</td>\n",
       "      <td>..</td>\n",
       "      <td>98.3</td>\n",
       "      <td>97.1</td>\n",
       "      <td>..</td>\n",
       "      <td>101.6</td>\n",
       "      <td>..</td>\n",
       "      <td>87.6</td>\n",
       "      <td>143.2</td>\n",
       "      <td>82.0</td>\n",
       "      <td>107.1</td>\n",
       "      <td>119.7</td>\n",
       "      <td>92.8</td>\n",
       "    </tr>\n",
       "    <tr>\n",
       "      <th>1958-03-01</th>\n",
       "      <td>86.4</td>\n",
       "      <td>40.9</td>\n",
       "      <td>133.5</td>\n",
       "      <td>..</td>\n",
       "      <td>82.3</td>\n",
       "      <td>33</td>\n",
       "      <td>..</td>\n",
       "      <td>23.4</td>\n",
       "      <td>..</td>\n",
       "      <td>33.9</td>\n",
       "      <td>45.6</td>\n",
       "      <td>34.1</td>\n",
       "      <td>133.8</td>\n",
       "      <td>68.4</td>\n",
       "      <td>52.0</td>\n",
       "    </tr>\n",
       "    <tr>\n",
       "      <th>1958-04-01</th>\n",
       "      <td>30.6</td>\n",
       "      <td>37.5</td>\n",
       "      <td>40.6</td>\n",
       "      <td>..</td>\n",
       "      <td>37.4</td>\n",
       "      <td>30.4</td>\n",
       "      <td>..</td>\n",
       "      <td>29.9</td>\n",
       "      <td>..</td>\n",
       "      <td>28</td>\n",
       "      <td>52.3</td>\n",
       "      <td>25.7</td>\n",
       "      <td>13.3</td>\n",
       "      <td>18.1</td>\n",
       "      <td>30.2</td>\n",
       "    </tr>\n",
       "    <tr>\n",
       "      <th>1958-05-01</th>\n",
       "      <td>118.0</td>\n",
       "      <td>101.2</td>\n",
       "      <td>123.1</td>\n",
       "      <td>..</td>\n",
       "      <td>126.7</td>\n",
       "      <td>73</td>\n",
       "      <td>..</td>\n",
       "      <td>103.9</td>\n",
       "      <td>..</td>\n",
       "      <td>91.9</td>\n",
       "      <td>69.0</td>\n",
       "      <td>86.6</td>\n",
       "      <td>130.6</td>\n",
       "      <td>113</td>\n",
       "      <td>97.6</td>\n",
       "    </tr>\n",
       "  </tbody>\n",
       "</table>\n",
       "</div>"
      ],
      "text/plain": [
       "            Belmullet   Birr  Cahirciveen Casement Claremorris Clones  \\\n",
       "date                                                                    \n",
       "1958-01-01      160.2   95.6        214.8       ..       146.9  104.8   \n",
       "1958-02-01       75.2   85.6        130.8       ..        98.3   97.1   \n",
       "1958-03-01       86.4   40.9        133.5       ..        82.3     33   \n",
       "1958-04-01       30.6   37.5         40.6       ..        37.4   30.4   \n",
       "1958-05-01      118.0  101.2        123.1       ..       126.7     73   \n",
       "\n",
       "           Cork airport  Dublin airport Galway Kilkenny  Malin head  \\\n",
       "date                                                                  \n",
       "1958-01-01           ..            40.0     ..    116.4       127.2   \n",
       "1958-02-01           ..           101.6     ..     87.6       143.2   \n",
       "1958-03-01           ..            23.4     ..     33.9        45.6   \n",
       "1958-04-01           ..            29.9     ..       28        52.3   \n",
       "1958-05-01           ..           103.9     ..     91.9        69.0   \n",
       "\n",
       "            Mullingar Roches Point Rosslare  Shannon airport  \n",
       "date                                                          \n",
       "1958-01-01      109.4        120.7    102.5            115.6  \n",
       "1958-02-01       82.0        107.1    119.7             92.8  \n",
       "1958-03-01       34.1        133.8     68.4             52.0  \n",
       "1958-04-01       25.7         13.3     18.1             30.2  \n",
       "1958-05-01       86.6        130.6      113             97.6  "
      ]
     },
     "execution_count": 1,
     "metadata": {},
     "output_type": "execute_result"
    }
   ],
   "source": [
    "import pandas as pd\n",
    "import matplotlib as plt\n",
    "\n",
    "# read the dat from a csv file into a pandas dataframe\n",
    "# the data is monthly rainfall totals for Irish weather stations\n",
    "# since 1958 to 2015\n",
    "# I have come across this dataset previously. \n",
    "df = pd.read_csv('data/totalrainfall.csv')\n",
    "\n",
    "# convert the date column to datetime format to use datetime functions\n",
    "df['date'] = pd.to_datetime(df['date'], format='%Y-%m')\n",
    "\n",
    "# set this column as the dataframe index and del the original date column\n",
    "df.index=df.date\n",
    "del df['date']\n",
    "\n",
    "# display the first few rows\n",
    "df.head()\n",
    "#df.describe()"
   ]
  },
  {
   "cell_type": "markdown",
   "metadata": {},
   "source": [
    "Some of the sites have missing data so then I will exmaine them ones that have complete data. The mean calculations below ignore any columns with missing data in the csv file. So I end up with 6 weather stations that have an average for the full dataset - which leads to 687 data points for each station. "
   ]
  },
  {
   "cell_type": "code",
   "execution_count": 2,
   "metadata": {},
   "outputs": [
    {
     "name": "stdout",
     "output_type": "stream",
     "text": [
      "57.25\n"
     ]
    }
   ],
   "source": [
    "monthly_samples = 687/12\n",
    "print(monthly_samples)\n"
   ]
  },
  {
   "cell_type": "code",
   "execution_count": 3,
   "metadata": {},
   "outputs": [
    {
     "data": {
      "text/html": [
       "<div>\n",
       "<style scoped>\n",
       "    .dataframe tbody tr th:only-of-type {\n",
       "        vertical-align: middle;\n",
       "    }\n",
       "\n",
       "    .dataframe tbody tr th {\n",
       "        vertical-align: top;\n",
       "    }\n",
       "\n",
       "    .dataframe thead th {\n",
       "        text-align: right;\n",
       "    }\n",
       "</style>\n",
       "<table border=\"1\" class=\"dataframe\">\n",
       "  <thead>\n",
       "    <tr style=\"text-align: right;\">\n",
       "      <th></th>\n",
       "      <th>Belmullet</th>\n",
       "      <th>Cahirciveen</th>\n",
       "      <th>Dublin airport</th>\n",
       "      <th>Malin head</th>\n",
       "      <th>Mullingar</th>\n",
       "      <th>Shannon airport</th>\n",
       "    </tr>\n",
       "    <tr>\n",
       "      <th>month</th>\n",
       "      <th></th>\n",
       "      <th></th>\n",
       "      <th></th>\n",
       "      <th></th>\n",
       "      <th></th>\n",
       "      <th></th>\n",
       "    </tr>\n",
       "  </thead>\n",
       "  <tbody>\n",
       "    <tr>\n",
       "      <th>1</th>\n",
       "      <td>128.789655</td>\n",
       "      <td>173.136207</td>\n",
       "      <td>65.629310</td>\n",
       "      <td>115.946552</td>\n",
       "      <td>92.898276</td>\n",
       "      <td>99.913793</td>\n",
       "    </tr>\n",
       "    <tr>\n",
       "      <th>2</th>\n",
       "      <td>88.834483</td>\n",
       "      <td>125.805172</td>\n",
       "      <td>51.232759</td>\n",
       "      <td>84.362069</td>\n",
       "      <td>68.998276</td>\n",
       "      <td>75.381034</td>\n",
       "    </tr>\n",
       "    <tr>\n",
       "      <th>3</th>\n",
       "      <td>90.820690</td>\n",
       "      <td>118.043103</td>\n",
       "      <td>51.874138</td>\n",
       "      <td>81.218966</td>\n",
       "      <td>68.453448</td>\n",
       "      <td>70.294828</td>\n",
       "    </tr>\n",
       "    <tr>\n",
       "      <th>4</th>\n",
       "      <td>66.985965</td>\n",
       "      <td>90.757895</td>\n",
       "      <td>52.135088</td>\n",
       "      <td>62.545614</td>\n",
       "      <td>64.868421</td>\n",
       "      <td>59.508772</td>\n",
       "    </tr>\n",
       "    <tr>\n",
       "      <th>5</th>\n",
       "      <td>73.161404</td>\n",
       "      <td>92.321053</td>\n",
       "      <td>58.787719</td>\n",
       "      <td>60.721053</td>\n",
       "      <td>69.771930</td>\n",
       "      <td>64.238596</td>\n",
       "    </tr>\n",
       "    <tr>\n",
       "      <th>6</th>\n",
       "      <td>71.154386</td>\n",
       "      <td>89.066667</td>\n",
       "      <td>61.996491</td>\n",
       "      <td>69.891228</td>\n",
       "      <td>71.270175</td>\n",
       "      <td>67.326316</td>\n",
       "    </tr>\n",
       "    <tr>\n",
       "      <th>7</th>\n",
       "      <td>73.838596</td>\n",
       "      <td>93.582456</td>\n",
       "      <td>57.666667</td>\n",
       "      <td>77.907018</td>\n",
       "      <td>72.410526</td>\n",
       "      <td>65.464912</td>\n",
       "    </tr>\n",
       "    <tr>\n",
       "      <th>8</th>\n",
       "      <td>94.833333</td>\n",
       "      <td>107.459649</td>\n",
       "      <td>71.915789</td>\n",
       "      <td>89.778947</td>\n",
       "      <td>81.173684</td>\n",
       "      <td>81.349123</td>\n",
       "    </tr>\n",
       "    <tr>\n",
       "      <th>9</th>\n",
       "      <td>102.701754</td>\n",
       "      <td>123.312281</td>\n",
       "      <td>66.207018</td>\n",
       "      <td>96.529825</td>\n",
       "      <td>81.612281</td>\n",
       "      <td>79.107018</td>\n",
       "    </tr>\n",
       "    <tr>\n",
       "      <th>10</th>\n",
       "      <td>131.868421</td>\n",
       "      <td>162.263158</td>\n",
       "      <td>77.428070</td>\n",
       "      <td>115.587719</td>\n",
       "      <td>99.447368</td>\n",
       "      <td>96.373684</td>\n",
       "    </tr>\n",
       "    <tr>\n",
       "      <th>11</th>\n",
       "      <td>132.363158</td>\n",
       "      <td>168.710526</td>\n",
       "      <td>71.852632</td>\n",
       "      <td>115.289474</td>\n",
       "      <td>92.298246</td>\n",
       "      <td>99.659649</td>\n",
       "    </tr>\n",
       "    <tr>\n",
       "      <th>12</th>\n",
       "      <td>131.977193</td>\n",
       "      <td>164.914035</td>\n",
       "      <td>74.170175</td>\n",
       "      <td>115.857895</td>\n",
       "      <td>95.663158</td>\n",
       "      <td>106.703509</td>\n",
       "    </tr>\n",
       "  </tbody>\n",
       "</table>\n",
       "</div>"
      ],
      "text/plain": [
       "        Belmullet  Cahirciveen  Dublin airport  Malin head  Mullingar  \\\n",
       "month                                                                   \n",
       "1      128.789655   173.136207       65.629310  115.946552  92.898276   \n",
       "2       88.834483   125.805172       51.232759   84.362069  68.998276   \n",
       "3       90.820690   118.043103       51.874138   81.218966  68.453448   \n",
       "4       66.985965    90.757895       52.135088   62.545614  64.868421   \n",
       "5       73.161404    92.321053       58.787719   60.721053  69.771930   \n",
       "6       71.154386    89.066667       61.996491   69.891228  71.270175   \n",
       "7       73.838596    93.582456       57.666667   77.907018  72.410526   \n",
       "8       94.833333   107.459649       71.915789   89.778947  81.173684   \n",
       "9      102.701754   123.312281       66.207018   96.529825  81.612281   \n",
       "10     131.868421   162.263158       77.428070  115.587719  99.447368   \n",
       "11     132.363158   168.710526       71.852632  115.289474  92.298246   \n",
       "12     131.977193   164.914035       74.170175  115.857895  95.663158   \n",
       "\n",
       "       Shannon airport  \n",
       "month                   \n",
       "1            99.913793  \n",
       "2            75.381034  \n",
       "3            70.294828  \n",
       "4            59.508772  \n",
       "5            64.238596  \n",
       "6            67.326316  \n",
       "7            65.464912  \n",
       "8            81.349123  \n",
       "9            79.107018  \n",
       "10           96.373684  \n",
       "11           99.659649  \n",
       "12          106.703509  "
      ]
     },
     "execution_count": 3,
     "metadata": {},
     "output_type": "execute_result"
    }
   ],
   "source": [
    "# create new column containing the month from the index\n",
    "df['month'] = df.index.month\n",
    "# new dataframe grouping each column by month and displaying the mean for that month\n",
    "by_month = df.groupby('month').mean()\n",
    "by_month"
   ]
  },
  {
   "cell_type": "markdown",
   "metadata": {},
   "source": [
    "# Mean\n",
    "\n",
    "Naively then I thought looking at monthly means over time might be an interesting method to examine the data so I took Belmullet as an example. This makes the data to sparse and something I should have thought of was I was removing granularity too early and I should look at the whole dataset then look at mean."
   ]
  },
  {
   "cell_type": "code",
   "execution_count": 4,
   "metadata": {},
   "outputs": [
    {
     "data": {
      "text/plain": [
       "[]"
      ]
     },
     "execution_count": 4,
     "metadata": {},
     "output_type": "execute_result"
    }
   ],
   "source": [
    "belmulletMean = by_month['Belmullet']\n",
    "plt = belmulletMean.hist(bins=12)\n",
    "plt.plot()\n",
    "\n"
   ]
  },
  {
   "cell_type": "code",
   "execution_count": 12,
   "metadata": {},
   "outputs": [
    {
     "data": {
      "text/plain": [
       "[]"
      ]
     },
     "execution_count": 12,
     "metadata": {},
     "output_type": "execute_result"
    },
    {
     "data": {
      "image/png": "[encoded data removed]",
      "text/plain": [
       "<Figure size 432x288 with 1 Axes>"
      ]
     },
     "metadata": {
      "needs_background": "light"
     },
     "output_type": "display_data"
    }
   ],
   "source": [
    "belmullet = df[\"Belmullet\"]\n",
    "mean = 98.960990\n",
    "standarddeviation = 48.264524\n",
    "plt = belmullet.hist(bins=12)\n",
    "plt.plot()\n",
    "\n",
    "\n"
   ]
  },
  {
   "cell_type": "code",
   "execution_count": 6,
   "metadata": {},
   "outputs": [
    {
     "data": {
      "text/plain": [
       "count    687.000000\n",
       "mean      98.960990\n",
       "std       48.264524\n",
       "min        4.200000\n",
       "25%       63.650000\n",
       "50%       90.900000\n",
       "75%      127.450000\n",
       "max      271.600000\n",
       "Name: Belmullet, dtype: float64"
      ]
     },
     "execution_count": 6,
     "metadata": {},
     "output_type": "execute_result"
    }
   ],
   "source": [
    "belmullet.describe()"
   ]
  },
  {
   "cell_type": "markdown",
   "metadata": {},
   "source": [
    "Next we examine the plot of its distribution, here I choose the quantile-quantile plot for checking the distribution of the data sample.\n",
    "\n",
    "Another popular plot for checking the distribution of a data sample is the quantile-quantile plot, Q-Q plot, or QQ plot for short.\n",
    "\n",
    "This plot generates its own sample of the idealized distribution that we are comparing with, in this case the Gaussian distribution. The idealized samples are divided into groups (e.g. 5), called quantiles. Each data point in the sample is paired with a similar member from the idealized distribution at the same cumulative distribution"
   ]
  },
  {
   "cell_type": "code",
   "execution_count": 7,
   "metadata": {},
   "outputs": [
    {
     "data": {
      "text/plain": [
       "[]"
      ]
     },
     "execution_count": 7,
     "metadata": {},
     "output_type": "execute_result"
    },
    {
     "data": {
      "image/png": "[encoded data removed]",
      "text/plain": [
       "<Figure size 432x288 with 1 Axes>"
      ]
     },
     "metadata": {
      "needs_background": "light"
     },
     "output_type": "display_data"
    }
   ],
   "source": [
    "from statsmodels.graphics.gofplots import qqplot\n",
    "qqplot(belmullet, line='s')\n",
    "plt.plot()"
   ]
  },
  {
   "cell_type": "code",
   "execution_count": null,
   "metadata": {},
   "outputs": [],
   "source": []
  }
 ],
 "metadata": {
  "kernelspec": {
   "display_name": "Python 3",
   "language": "python",
   "name": "python3"
  },
  "language_info": {
   "codemirror_mode": {
    "name": "ipython",
    "version": 3
   },
   "file_extension": ".py",
   "mimetype": "text/x-python",
   "name": "python",
   "nbconvert_exporter": "python",
   "pygments_lexer": "ipython3",
   "version": "3.6.7"
  }
 },
 "nbformat": 4,
 "nbformat_minor": 2
}
